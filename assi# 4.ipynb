{
 "cells": [
  {
   "cell_type": "code",
   "execution_count": 2,
   "id": "505f6781",
   "metadata": {},
   "outputs": [
    {
     "name": "stdout",
     "output_type": "stream",
     "text": [
      "1\n"
     ]
    }
   ],
   "source": [
    "\n",
    "list = [\"string\",\"object\",1,\"array\"]\n",
    "for i in list :\n",
    "    if type(i) == int:\n",
    "        print(i)"
   ]
  },
  {
   "cell_type": "code",
   "execution_count": 3,
   "id": "ef402c75",
   "metadata": {},
   "outputs": [
    {
     "name": "stdout",
     "output_type": "stream",
     "text": [
      "{1: 'Ford', 2: 'Mustang', 3: 'nissan', 4: 'civic'}\n"
     ]
    }
   ],
   "source": [
    "\n",
    "thisdict = {\n",
    "  1: \"Ford\",\n",
    "  2: \"Mustang\",\n",
    "  3: \"nissan\"\n",
    "}\n",
    "thisdict.update({4:\"civic\"})\n",
    "print(thisdict)"
   ]
  },
  {
   "cell_type": "code",
   "execution_count": 4,
   "id": "6d176c18",
   "metadata": {},
   "outputs": [
    {
     "name": "stdout",
     "output_type": "stream",
     "text": [
      "6\n"
     ]
    }
   ],
   "source": [
    "dic = {1 : 1 , 2 : 2 , 3 : 3}\n",
    "print(sum(dic.values()))"
   ]
  },
  {
   "cell_type": "code",
   "execution_count": 5,
   "id": "5c406965",
   "metadata": {},
   "outputs": [
    {
     "name": "stdout",
     "output_type": "stream",
     "text": [
      "3\n",
      "4\n"
     ]
    }
   ],
   "source": [
    "list = [1.2,3,4,5,2,3,4]\n",
    "list1 = []\n",
    "for i in list:\n",
    "    if i not in list1:\n",
    "        list1.append(i)\n",
    "    else:\n",
    "            print(i)"
   ]
  },
  {
   "cell_type": "code",
   "execution_count": null,
   "id": "6671cf89",
   "metadata": {},
   "outputs": [],
   "source": [
    "x = int(input(\"enter number\"))\n",
    "d = {1: 10, 2: 20, 3: 30, 4: 40, 5: 50, 6: 60}\n",
    "def is_key_present(x):\n",
    "    if x in d:\n",
    "        print('Key is present in the dictionary')\n",
    "    else:\n",
    "        print('Key is not present in the dictionary')\n",
    "is_key_present(x)\n",
    "\n"
   ]
  },
  {
   "cell_type": "code",
   "execution_count": 16,
   "id": "f93d4bd6",
   "metadata": {},
   "outputs": [
    {
     "name": "stdout",
     "output_type": "stream",
     "text": [
      "Enter the number for operation : 23\n",
      "If you want to do power operation then write '1'. \n",
      " if you want to do simple calculation then write '0' : 1\n",
      "Enter the power value : 23\n",
      "your answer of power of 23 ^ 23 is :  20880467999847912034355032910567\n"
     ]
    }
   ],
   "source": [
    "num1 = int(input(\"Enter the number for operation : \"))\n",
    "power = input(\"If you want to do power operation then write '1'. \\n if you want to do simple calculation then write '0' : \")\n",
    "if power == \"1\":\n",
    "    poor = int(input(\"Enter the power value : \"))\n",
    "    expon = 1\n",
    "    \n",
    "    for i in range(1,poor+1):\n",
    "        expon = expon*num1\n",
    "    print(\"your answer of power of\",num1,\"^\",poor,\"is : \",expon)\n",
    "\n",
    "elif power == \"0\":\n",
    "    operator = input(\"Enter operator : \")\n",
    "    if operator == \"+\" or \"-\" or \"/\" or \"*\":\n",
    "        num2 = int(input(\"Enter the second number for operation : \"))\n",
    "        if operator == \"+\":\n",
    "            total = num1 + num2\n",
    "        elif operator == \"-\":\n",
    "            total = num1 - num2\n",
    "        elif operator == \"/\":\n",
    "            total = num1 / num2\n",
    "        elif operator == \"*\":\n",
    "            total = num1 * num2\n",
    "    print(\"your answer is : \",total)"
   ]
  },
  {
   "cell_type": "code",
   "execution_count": null,
   "id": "d5d3307e",
   "metadata": {},
   "outputs": [],
   "source": []
  }
 ],
 "metadata": {
  "kernelspec": {
   "display_name": "Python 3",
   "language": "python",
   "name": "python3"
  },
  "language_info": {
   "codemirror_mode": {
    "name": "ipython",
    "version": 3
   },
   "file_extension": ".py",
   "mimetype": "text/x-python",
   "name": "python",
   "nbconvert_exporter": "python",
   "pygments_lexer": "ipython3",
   "version": "3.8.8"
  }
 },
 "nbformat": 4,
 "nbformat_minor": 5
}
